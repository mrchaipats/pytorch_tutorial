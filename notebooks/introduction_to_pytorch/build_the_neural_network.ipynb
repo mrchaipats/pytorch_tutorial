{
 "cells": [
  {
   "cell_type": "code",
   "execution_count": 1,
   "id": "6da8b881",
   "metadata": {},
   "outputs": [],
   "source": [
    "import os\n",
    "import torch\n",
    "from torch import nn\n",
    "from torch.utils.data import DataLoader\n",
    "from torchvision import datasets, transforms"
   ]
  },
  {
   "cell_type": "code",
   "execution_count": 2,
   "id": "51e5168d",
   "metadata": {},
   "outputs": [
    {
     "name": "stdout",
     "output_type": "stream",
     "text": [
      "Using cpu device\n"
     ]
    }
   ],
   "source": [
    "device = 'cuda' if torch.cuda.is_available() else 'cpu'\n",
    "print(f'Using {device} device')"
   ]
  },
  {
   "cell_type": "code",
   "execution_count": 3,
   "id": "d1ea7e06",
   "metadata": {},
   "outputs": [],
   "source": [
    "class NeuralNetwork(nn.Module):\n",
    "    def __init__(self):\n",
    "        super(NeuralNetwork, self).__init__()\n",
    "        self.flatten = nn.Flatten()\n",
    "        self.linear_relu_stack = nn.Sequential(\n",
    "            nn.Linear(28*28, 512),\n",
    "            nn.ReLU(),\n",
    "            nn.Linear(512, 512),\n",
    "            nn.ReLU(),\n",
    "            nn.Linear(512, 10),\n",
    "        )\n",
    "        \n",
    "    def forward(self, x):\n",
    "        x = self.flatten(x)\n",
    "        logits = self.linear_relu_stack(x)\n",
    "        return logits"
   ]
  },
  {
   "cell_type": "code",
   "execution_count": 4,
   "id": "1f615a4a",
   "metadata": {},
   "outputs": [
    {
     "name": "stdout",
     "output_type": "stream",
     "text": [
      "NeuralNetwork(\n",
      "  (flatten): Flatten(start_dim=1, end_dim=-1)\n",
      "  (linear_relu_stack): Sequential(\n",
      "    (0): Linear(in_features=784, out_features=512, bias=True)\n",
      "    (1): ReLU()\n",
      "    (2): Linear(in_features=512, out_features=512, bias=True)\n",
      "    (3): ReLU()\n",
      "    (4): Linear(in_features=512, out_features=10, bias=True)\n",
      "  )\n",
      ")\n"
     ]
    }
   ],
   "source": [
    "model = NeuralNetwork().to(device)\n",
    "print(model)"
   ]
  },
  {
   "cell_type": "code",
   "execution_count": 5,
   "id": "cdeac47f",
   "metadata": {},
   "outputs": [
    {
     "name": "stdout",
     "output_type": "stream",
     "text": [
      "Predicted class: tensor([7])\n"
     ]
    }
   ],
   "source": [
    "X = torch.rand(1, 28, 28, device=device)\n",
    "logits = model(X)\n",
    "pred_probab = nn.Softmax(dim=1)(logits)\n",
    "y_pred = pred_probab.argmax(1)\n",
    "print(f'Predicted class: {y_pred}')"
   ]
  },
  {
   "cell_type": "code",
   "execution_count": 8,
   "id": "29b20987",
   "metadata": {},
   "outputs": [
    {
     "name": "stdout",
     "output_type": "stream",
     "text": [
      "torch.Size([3, 28, 28])\n"
     ]
    }
   ],
   "source": [
    "input_image = torch.rand(3, 28, 28)\n",
    "print(input_image.size())"
   ]
  },
  {
   "cell_type": "code",
   "execution_count": 9,
   "id": "52565dbd",
   "metadata": {},
   "outputs": [
    {
     "name": "stdout",
     "output_type": "stream",
     "text": [
      "torch.Size([3, 784])\n"
     ]
    }
   ],
   "source": [
    "flatten = nn.Flatten()\n",
    "flat_image = flatten(input_image)\n",
    "print(flat_image.size())"
   ]
  },
  {
   "cell_type": "code",
   "execution_count": 10,
   "id": "6cc4c383",
   "metadata": {},
   "outputs": [
    {
     "name": "stdout",
     "output_type": "stream",
     "text": [
      "torch.Size([3, 20])\n"
     ]
    }
   ],
   "source": [
    "layer1 = nn.Linear(in_features=28*28, out_features=20)\n",
    "hidden1 = layer1(flat_image)\n",
    "print(hidden1.size())"
   ]
  },
  {
   "cell_type": "code",
   "execution_count": 11,
   "id": "c6b0d97c",
   "metadata": {},
   "outputs": [
    {
     "name": "stdout",
     "output_type": "stream",
     "text": [
      "Before ReLU: tensor([[ 0.3103,  0.3340,  0.0736,  0.1424, -0.0147,  0.0018,  0.3025, -0.1622,\n",
      "          0.1588, -0.4691, -0.4013, -0.1869, -0.5920,  0.0264,  0.0655, -0.0314,\n",
      "          0.5965, -0.2675, -0.2701, -0.3550],\n",
      "        [ 0.3079,  0.5438, -0.2633,  0.3580,  0.0823, -0.1835,  0.5709, -0.4919,\n",
      "         -0.0292,  0.0421, -0.4338, -0.4897, -0.3668,  0.3607,  0.1024,  0.1954,\n",
      "          0.2621, -0.2691, -0.1272, -0.2995],\n",
      "        [ 0.1322,  0.4142, -0.1131,  0.1995,  0.0159,  0.0361,  0.5339, -0.3126,\n",
      "         -0.0331, -0.2850, -0.2678, -0.1225, -0.3638,  0.0785,  0.0749,  0.0757,\n",
      "          0.4471, -0.0069, -0.4477, -0.1817]], grad_fn=<AddmmBackward0>)\n",
      "\n",
      "\n",
      "After ReLU: tensor([[0.3103, 0.3340, 0.0736, 0.1424, 0.0000, 0.0018, 0.3025, 0.0000, 0.1588,\n",
      "         0.0000, 0.0000, 0.0000, 0.0000, 0.0264, 0.0655, 0.0000, 0.5965, 0.0000,\n",
      "         0.0000, 0.0000],\n",
      "        [0.3079, 0.5438, 0.0000, 0.3580, 0.0823, 0.0000, 0.5709, 0.0000, 0.0000,\n",
      "         0.0421, 0.0000, 0.0000, 0.0000, 0.3607, 0.1024, 0.1954, 0.2621, 0.0000,\n",
      "         0.0000, 0.0000],\n",
      "        [0.1322, 0.4142, 0.0000, 0.1995, 0.0159, 0.0361, 0.5339, 0.0000, 0.0000,\n",
      "         0.0000, 0.0000, 0.0000, 0.0000, 0.0785, 0.0749, 0.0757, 0.4471, 0.0000,\n",
      "         0.0000, 0.0000]], grad_fn=<ReluBackward0>)\n"
     ]
    }
   ],
   "source": [
    "print(f'Before ReLU: {hidden1}\\n\\n')\n",
    "hidden1 = nn.ReLU()(hidden1)\n",
    "print(f'After ReLU: {hidden1}')"
   ]
  },
  {
   "cell_type": "code",
   "execution_count": 13,
   "id": "64fd82b8",
   "metadata": {},
   "outputs": [
    {
     "data": {
      "text/plain": [
       "tensor([[-0.1957,  0.0235, -0.3058, -0.0695, -0.1530, -0.0427, -0.1088,  0.0915,\n",
       "         -0.0486,  0.1623],\n",
       "        [-0.1611,  0.0274, -0.3930,  0.0435, -0.1392, -0.0333, -0.1728,  0.1376,\n",
       "         -0.2231,  0.0764],\n",
       "        [-0.0021, -0.1067, -0.3723, -0.0373, -0.0487,  0.1615, -0.2233,  0.0303,\n",
       "         -0.0961,  0.1215]], grad_fn=<AddmmBackward0>)"
      ]
     },
     "execution_count": 13,
     "metadata": {},
     "output_type": "execute_result"
    }
   ],
   "source": [
    "seq_modules = nn.Sequential(\n",
    "    flatten,\n",
    "    layer1,\n",
    "    nn.ReLU(),\n",
    "    nn.Linear(20, 10)\n",
    ")\n",
    "input_image = torch.rand(3, 28, 28)\n",
    "logits = seq_modules(input_image)\n",
    "logits"
   ]
  },
  {
   "cell_type": "code",
   "execution_count": 18,
   "id": "5499b05f",
   "metadata": {},
   "outputs": [
    {
     "data": {
      "text/plain": [
       "(tensor([[0.0870, 0.1083, 0.0779, 0.0987, 0.0908, 0.1014, 0.0949, 0.1159, 0.1008,\n",
       "          0.1244],\n",
       "         [0.0915, 0.1105, 0.0726, 0.1123, 0.0935, 0.1040, 0.0904, 0.1233, 0.0860,\n",
       "          0.1160],\n",
       "         [0.1045, 0.0942, 0.0722, 0.1009, 0.0998, 0.1231, 0.0838, 0.1080, 0.0952,\n",
       "          0.1183]], grad_fn=<SoftmaxBackward0>),\n",
       " tensor([1.0000, 1.0000, 1.0000], grad_fn=<SumBackward1>))"
      ]
     },
     "execution_count": 18,
     "metadata": {},
     "output_type": "execute_result"
    }
   ],
   "source": [
    "softmax = nn.Softmax(dim=1)\n",
    "pred_probab = softmax(logits)\n",
    "pred_probab, pred_probab.sum(axis=1)"
   ]
  },
  {
   "cell_type": "code",
   "execution_count": 20,
   "id": "e925ea09",
   "metadata": {},
   "outputs": [
    {
     "name": "stdout",
     "output_type": "stream",
     "text": [
      "Model structure: NeuralNetwork(\n",
      "  (flatten): Flatten(start_dim=1, end_dim=-1)\n",
      "  (linear_relu_stack): Sequential(\n",
      "    (0): Linear(in_features=784, out_features=512, bias=True)\n",
      "    (1): ReLU()\n",
      "    (2): Linear(in_features=512, out_features=512, bias=True)\n",
      "    (3): ReLU()\n",
      "    (4): Linear(in_features=512, out_features=10, bias=True)\n",
      "  )\n",
      ")\n",
      "\n",
      "\n",
      "Layer: linear_relu_stack.0.weight | Size: torch.Size([512, 784]) | Values: tensor([[-0.0051, -0.0355,  0.0137,  ...,  0.0124,  0.0131,  0.0230],\n",
      "        [ 0.0144, -0.0114,  0.0276,  ...,  0.0133, -0.0298,  0.0220]],\n",
      "       grad_fn=<SliceBackward0>) \n",
      "\n",
      "Layer: linear_relu_stack.0.bias | Size: torch.Size([512]) | Values: tensor([ 0.0251, -0.0256], grad_fn=<SliceBackward0>) \n",
      "\n",
      "Layer: linear_relu_stack.2.weight | Size: torch.Size([512, 512]) | Values: tensor([[ 0.0266, -0.0199,  0.0019,  ...,  0.0219,  0.0250, -0.0283],\n",
      "        [ 0.0423, -0.0272, -0.0351,  ..., -0.0239, -0.0033, -0.0236]],\n",
      "       grad_fn=<SliceBackward0>) \n",
      "\n",
      "Layer: linear_relu_stack.2.bias | Size: torch.Size([512]) | Values: tensor([ 0.0252, -0.0279], grad_fn=<SliceBackward0>) \n",
      "\n",
      "Layer: linear_relu_stack.4.weight | Size: torch.Size([10, 512]) | Values: tensor([[ 0.0032, -0.0270, -0.0173,  ..., -0.0295,  0.0064, -0.0053],\n",
      "        [ 0.0107, -0.0142, -0.0376,  ...,  0.0121,  0.0296,  0.0156]],\n",
      "       grad_fn=<SliceBackward0>) \n",
      "\n",
      "Layer: linear_relu_stack.4.bias | Size: torch.Size([10]) | Values: tensor([0.0372, 0.0274], grad_fn=<SliceBackward0>) \n",
      "\n"
     ]
    }
   ],
   "source": [
    "print(f'Model structure: {model}\\n\\n')\n",
    "\n",
    "for name, param in model.named_parameters():\n",
    "    print(f'Layer: {name} | Size: {param.size()} | Values: {param[:2]} \\n')"
   ]
  },
  {
   "cell_type": "code",
   "execution_count": null,
   "id": "89bec585",
   "metadata": {},
   "outputs": [],
   "source": []
  }
 ],
 "metadata": {
  "kernelspec": {
   "display_name": "Python 3 (ipykernel)",
   "language": "python",
   "name": "python3"
  },
  "language_info": {
   "codemirror_mode": {
    "name": "ipython",
    "version": 3
   },
   "file_extension": ".py",
   "mimetype": "text/x-python",
   "name": "python",
   "nbconvert_exporter": "python",
   "pygments_lexer": "ipython3",
   "version": "3.8.13"
  }
 },
 "nbformat": 4,
 "nbformat_minor": 5
}
