{
 "cells": [
  {
   "cell_type": "markdown",
   "id": "be15a63c",
   "metadata": {},
   "source": [
    "Use flask is the easiest way to serve PyTorch model, but it will not work for a use case with high performance requirements. For that:\n",
    "\n",
    "    - Use TorchScript Model in C++ tutorial."
   ]
  },
  {
   "cell_type": "markdown",
   "id": "b8af78a9",
   "metadata": {},
   "source": [
    "### Define API endpoint\n",
    "- endpoint: /predict\n",
    "- HTTP POST with a file parameter containing image\n",
    "- Response: JSON containing prediction"
   ]
  },
  {
   "cell_type": "markdown",
   "id": "efd59d70",
   "metadata": {},
   "source": [
    "### Simple Web Server"
   ]
  },
  {
   "cell_type": "code",
   "execution_count": null,
   "id": "ab57f1f0",
   "metadata": {},
   "outputs": [],
   "source": [
    "from flask import Flask\n",
    "\n",
    "app = Flask(__name__)\n",
    "\n",
    "@app.route('/')\n",
    "def hello():\n",
    "    return 'Hello World!'"
   ]
  },
  {
   "cell_type": "code",
   "execution_count": null,
   "id": "1cf1f69d",
   "metadata": {},
   "outputs": [],
   "source": [
    "@app.route('/dummy_predict', methods=['POST'])\n",
    "def dummy_predict():\n",
    "    return 'Hello World!'"
   ]
  },
  {
   "cell_type": "code",
   "execution_count": null,
   "id": "96d7745e",
   "metadata": {},
   "outputs": [],
   "source": [
    "@app.route('/dummy_predict_2', methods=['POST'])\n",
    "def dummy_predict_2():\n",
    "    return jsonify({\n",
    "        'class_id': 'IMAGE_NET_XXX',\n",
    "        'class_name': 'Cat'\n",
    "    })"
   ]
  },
  {
   "cell_type": "markdown",
   "id": "20fe9766",
   "metadata": {},
   "source": [
    "### Build an image transformation pipeline"
   ]
  },
  {
   "cell_type": "code",
   "execution_count": null,
   "id": "dcc8b534",
   "metadata": {},
   "outputs": [],
   "source": [
    "import io\n",
    "\n",
    "import torchvision.transforms as transforms\n",
    "from PIL import Image\n",
    "\n",
    "def transform_image(image_bytes):\n",
    "    my_transforms = transforms.Compose([\n",
    "        transforms.Resize(255),\n",
    "        transforms.CenterCrop(224),\n",
    "        transforms.ToTensor(),\n",
    "        transforms.Normalize(\n",
    "            [0.485, 0.456, 0.406],\n",
    "            [0.229, 0.224, 0.225]\n",
    "        )\n",
    "    ])\n",
    "    \n",
    "    image = Image.open(io.BytesIO(image_bytes))\n",
    "    return my_transforms(image).unsqueeze(0)"
   ]
  },
  {
   "cell_type": "code",
   "execution_count": null,
   "id": "62eb670f",
   "metadata": {},
   "outputs": [],
   "source": [
    "# test transform_image()\n",
    "with open('cat.jpg', 'rb') as f:\n",
    "    image_bytes = f.read()\n",
    "    tensor = transform_image(image_bytes=image_bytes)\n",
    "    print(tensor)\n",
    "    print(tensor.shape)"
   ]
  },
  {
   "cell_type": "markdown",
   "id": "722e3cc1",
   "metadata": {},
   "source": [
    "### Prediction"
   ]
  },
  {
   "cell_type": "code",
   "execution_count": null,
   "id": "d01f4c5c",
   "metadata": {},
   "outputs": [],
   "source": [
    "from torchvision import models\n",
    "import json\n",
    "\n",
    "imagenet_class_index = json.load(open('imagenet_class_index.json'))\n",
    "\n",
    "# Keep the model loaded in memory just once before serving the requests.\n",
    "model = models.densenet121(pretrained=True)\n",
    "\n",
    "model.eval()\n",
    "\n",
    "def get_prediction(image_bytes):\n",
    "    tensor = transform_image(image_bytes=image_bytes)\n",
    "    outputs = model.forward(tensor)\n",
    "    _, y_hat = outputs.max(1)\n",
    "    predicted_idx = str(y_hat.item())\n",
    "    return imagenet_class_index[predicted_idx]"
   ]
  },
  {
   "cell_type": "code",
   "execution_count": null,
   "id": "5add7a21",
   "metadata": {},
   "outputs": [],
   "source": [
    "# test get_prediction()\n",
    "with open('cat.jpg', 'rb') as f:\n",
    "    image_bytes = f.read()\n",
    "    print(get_prediction(image_bytes=image_bytes))"
   ]
  },
  {
   "cell_type": "markdown",
   "id": "65be27df",
   "metadata": {},
   "source": [
    "### Update predict method to read file from the requests"
   ]
  },
  {
   "cell_type": "code",
   "execution_count": null,
   "id": "677a829a",
   "metadata": {},
   "outputs": [],
   "source": [
    "from flask import request\n",
    "\n",
    "# Completed predict endpoint\n",
    "@app.route('/predict', methods=['POST'])\n",
    "def predict():\n",
    "    if request.method == 'POST':\n",
    "        file = request.files['file']\n",
    "        img_bytes = file.read()\n",
    "        class_id, class_name = get_prediction(\n",
    "            image_bytes=image_bytes\n",
    "        )\n",
    "    return jsonify({\n",
    "        'class_id': class_id,\n",
    "        'class_name': class_name\n",
    "    })"
   ]
  },
  {
   "cell_type": "markdown",
   "id": "71050985",
   "metadata": {},
   "source": [
    "### Putting everything together\n",
    "\n",
    "To test: put the following code into app.py and run:\n",
    "\n",
    "`FLASK_ENV=development FLASK_APP=app.py flask run -p 5002`"
   ]
  },
  {
   "cell_type": "code",
   "execution_count": null,
   "id": "7536bfdb",
   "metadata": {
    "scrolled": false
   },
   "outputs": [],
   "source": [
    "import io\n",
    "import json\n",
    "\n",
    "from torchvision import models\n",
    "import torchvision.transforms as transforms\n",
    "from PIL import Image\n",
    "from flask import Flask, jsonify, request\n",
    "\n",
    "app = Flask(__name__)\n",
    "\n",
    "imagenet_class_index = json.load(open('imagenet_class_index.json'))\n",
    "\n",
    "model = models.densenet121(pretrained=True)\n",
    "model.eval()\n",
    "\n",
    "def transform_image(image_bytes):\n",
    "    my_transforms = transforms.Compose([\n",
    "        transforms.Resize(255),\n",
    "        transforms.CenterCrop(224),\n",
    "        transforms.ToTensor(),\n",
    "        transforms.Normalize(\n",
    "            [0.485, 0.456, 0.406],\n",
    "            [0.229, 0.224, 0.225]\n",
    "        )\n",
    "    ])\n",
    "    \n",
    "    image = Image.open(io.BytesIO(image_bytes))\n",
    "    return my_transforms(image).unsqueeze(0)\n",
    "\n",
    "def get_prediction(image_bytes):\n",
    "    tensor = transform_image(image_bytes)\n",
    "    outputs = model.forward(tensor)\n",
    "    _, y_hat = outputs.max(1)\n",
    "    predicted_idx = str(y_hat.item())\n",
    "    return imagenet_class_index[predicted_idx]\n",
    "\n",
    "\n",
    "@app.route('/predict', methods=['POST'])\n",
    "def predict():\n",
    "    if request.method == 'POST':\n",
    "        file = request.files['file']\n",
    "        img_bytes = file.read()\n",
    "        class_id, class_name = get_prediction(img_bytes)\n",
    "        return jsonify({\n",
    "            'class_id': class_id,\n",
    "            'class_name': class_name\n",
    "        })\n",
    "    \n",
    "if __name__ == '__main__':\n",
    "    app.run(\n",
    "        host='localhost',\n",
    "        port=5002,\n",
    "        debug=True\n",
    "    )"
   ]
  },
  {
   "cell_type": "markdown",
   "id": "b93ebb6a",
   "metadata": {},
   "source": [
    "### Send a POST request to the deployed API endpoint\n",
    "\n",
    "Note: run the flask app in the previous cell in terminal first"
   ]
  },
  {
   "cell_type": "code",
   "execution_count": 1,
   "id": "551fdaa5",
   "metadata": {},
   "outputs": [],
   "source": [
    "import requests\n",
    "\n",
    "resp = requests.post(\n",
    "    'http://localhost:5002/predict',\n",
    "    files={\n",
    "        'file': open('cat.jpg', 'rb')\n",
    "    }\n",
    ")"
   ]
  },
  {
   "cell_type": "code",
   "execution_count": 3,
   "id": "6db3480f",
   "metadata": {},
   "outputs": [
    {
     "data": {
      "text/plain": [
       "{'class_id': 'n02123159', 'class_name': 'tiger_cat'}"
      ]
     },
     "execution_count": 3,
     "metadata": {},
     "output_type": "execute_result"
    }
   ],
   "source": [
    "resp.json()"
   ]
  },
  {
   "cell_type": "code",
   "execution_count": null,
   "id": "7b3c4f27",
   "metadata": {},
   "outputs": [],
   "source": []
  }
 ],
 "metadata": {
  "kernelspec": {
   "display_name": "Python 3 (ipykernel)",
   "language": "python",
   "name": "python3"
  },
  "language_info": {
   "codemirror_mode": {
    "name": "ipython",
    "version": 3
   },
   "file_extension": ".py",
   "mimetype": "text/x-python",
   "name": "python",
   "nbconvert_exporter": "python",
   "pygments_lexer": "ipython3",
   "version": "3.8.13"
  }
 },
 "nbformat": 4,
 "nbformat_minor": 5
}
